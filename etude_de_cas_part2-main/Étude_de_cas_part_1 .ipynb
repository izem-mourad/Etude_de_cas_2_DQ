{
 "cells": [
  {
   "cell_type": "markdown",
   "metadata": {},
   "source": [
    "# Étude de cas 2\n",
    "### Outils et méthodologies de Résolution des problèmes partie 1 \n",
    "(Questions 1-6)\n",
    "#### Situation"
   ]
  },
  {
   "cell_type": "markdown",
   "metadata": {},
   "source": [
    "NOLTACED est une chaîne de trois\n",
    "magasins qui livre des produits\n",
    "agroalimentaires frais. Après une période\n",
    "de croissance rapide, NOLTACED a vu son\n",
    "chiffre d'affaires baisser pendant six mois.\n",
    "Le comité de direction a décidé de former\n",
    "une équipe composée des directeurs des\n",
    "magasins, de personnel de production et\n",
    "de livreurs pour essayer de découvrir ce\n",
    "qui se passait et de générer un plan\n",
    "d'action pour redresser la situation.\n",
    "L’équipe a suivi un standard global de\n",
    "résolution des problèmes."
   ]
  },
  {
   "cell_type": "code",
   "execution_count": 1,
   "metadata": {},
   "outputs": [],
   "source": [
    "# Importation des dépendances \n",
    "import pandas as pd \n",
    "import numpy as np \n",
    "from sklearn.linear_model import LinearRegression\n",
    "import seaborn as sns\n",
    "from matplotlib import pyplot as plt \n",
    "from matplotlib.ticker import PercentFormatter\n",
    "import matplotlib.image as mpimg\n",
    "from scipy import stats"
   ]
  },
  {
   "cell_type": "markdown",
   "metadata": {},
   "source": [
    "## 1 - Pareto"
   ]
  },
  {
   "cell_type": "code",
   "execution_count": 2,
   "metadata": {},
   "outputs": [
    {
     "data": {
      "text/html": [
       "<div>\n",
       "<style scoped>\n",
       "    .dataframe tbody tr th:only-of-type {\n",
       "        vertical-align: middle;\n",
       "    }\n",
       "\n",
       "    .dataframe tbody tr th {\n",
       "        vertical-align: top;\n",
       "    }\n",
       "\n",
       "    .dataframe thead th {\n",
       "        text-align: right;\n",
       "    }\n",
       "</style>\n",
       "<table border=\"1\" class=\"dataframe\">\n",
       "  <thead>\n",
       "    <tr style=\"text-align: right;\">\n",
       "      <th></th>\n",
       "      <th>défaut</th>\n",
       "      <th>Qt</th>\n",
       "    </tr>\n",
       "  </thead>\n",
       "  <tbody>\n",
       "    <tr>\n",
       "      <th>0</th>\n",
       "      <td>Quantité non respectées</td>\n",
       "      <td>300</td>\n",
       "    </tr>\n",
       "    <tr>\n",
       "      <th>1</th>\n",
       "      <td>Mauvais goût</td>\n",
       "      <td>150</td>\n",
       "    </tr>\n",
       "    <tr>\n",
       "      <th>2</th>\n",
       "      <td>Retard de la livraison</td>\n",
       "      <td>1900</td>\n",
       "    </tr>\n",
       "    <tr>\n",
       "      <th>3</th>\n",
       "      <td>Saletés</td>\n",
       "      <td>200</td>\n",
       "    </tr>\n",
       "    <tr>\n",
       "      <th>4</th>\n",
       "      <td>Aliments pas frais</td>\n",
       "      <td>1400</td>\n",
       "    </tr>\n",
       "    <tr>\n",
       "      <th>5</th>\n",
       "      <td>autres</td>\n",
       "      <td>100</td>\n",
       "    </tr>\n",
       "  </tbody>\n",
       "</table>\n",
       "</div>"
      ],
      "text/plain": [
       "                    défaut    Qt\n",
       "0  Quantité non respectées   300\n",
       "1             Mauvais goût   150\n",
       "2   Retard de la livraison  1900\n",
       "3                  Saletés   200\n",
       "4       Aliments pas frais  1400\n",
       "5                   autres   100"
      ]
     },
     "execution_count": 2,
     "metadata": {},
     "output_type": "execute_result"
    }
   ],
   "source": [
    "defauts = pd.read_excel(\"data/défauts.xlsx\")\n",
    "defauts"
   ]
  },
  {
   "cell_type": "code",
   "execution_count": 3,
   "metadata": {},
   "outputs": [
    {
     "data": {
      "text/html": [
       "<div>\n",
       "<style scoped>\n",
       "    .dataframe tbody tr th:only-of-type {\n",
       "        vertical-align: middle;\n",
       "    }\n",
       "\n",
       "    .dataframe tbody tr th {\n",
       "        vertical-align: top;\n",
       "    }\n",
       "\n",
       "    .dataframe thead th {\n",
       "        text-align: right;\n",
       "    }\n",
       "</style>\n",
       "<table border=\"1\" class=\"dataframe\">\n",
       "  <thead>\n",
       "    <tr style=\"text-align: right;\">\n",
       "      <th></th>\n",
       "      <th>défaut</th>\n",
       "      <th>Qt</th>\n",
       "      <th>fréquence</th>\n",
       "      <th>cumul</th>\n",
       "      <th>index</th>\n",
       "    </tr>\n",
       "  </thead>\n",
       "  <tbody>\n",
       "    <tr>\n",
       "      <th>2</th>\n",
       "      <td>Retard de la livraison</td>\n",
       "      <td>1900</td>\n",
       "      <td>46.913580</td>\n",
       "      <td>46.913580</td>\n",
       "      <td>2</td>\n",
       "    </tr>\n",
       "    <tr>\n",
       "      <th>4</th>\n",
       "      <td>Aliments pas frais</td>\n",
       "      <td>1400</td>\n",
       "      <td>34.567901</td>\n",
       "      <td>81.481481</td>\n",
       "      <td>4</td>\n",
       "    </tr>\n",
       "    <tr>\n",
       "      <th>0</th>\n",
       "      <td>Quantité non respectées</td>\n",
       "      <td>300</td>\n",
       "      <td>7.407407</td>\n",
       "      <td>88.888889</td>\n",
       "      <td>0</td>\n",
       "    </tr>\n",
       "    <tr>\n",
       "      <th>3</th>\n",
       "      <td>Saletés</td>\n",
       "      <td>200</td>\n",
       "      <td>4.938272</td>\n",
       "      <td>93.827160</td>\n",
       "      <td>3</td>\n",
       "    </tr>\n",
       "    <tr>\n",
       "      <th>1</th>\n",
       "      <td>Mauvais goût</td>\n",
       "      <td>150</td>\n",
       "      <td>3.703704</td>\n",
       "      <td>97.530864</td>\n",
       "      <td>1</td>\n",
       "    </tr>\n",
       "    <tr>\n",
       "      <th>5</th>\n",
       "      <td>autres</td>\n",
       "      <td>100</td>\n",
       "      <td>2.469136</td>\n",
       "      <td>100.000000</td>\n",
       "      <td>5</td>\n",
       "    </tr>\n",
       "  </tbody>\n",
       "</table>\n",
       "</div>"
      ],
      "text/plain": [
       "                    défaut    Qt  fréquence       cumul  index\n",
       "2   Retard de la livraison  1900  46.913580   46.913580      2\n",
       "4       Aliments pas frais  1400  34.567901   81.481481      4\n",
       "0  Quantité non respectées   300   7.407407   88.888889      0\n",
       "3                  Saletés   200   4.938272   93.827160      3\n",
       "1             Mauvais goût   150   3.703704   97.530864      1\n",
       "5                   autres   100   2.469136  100.000000      5"
      ]
     },
     "execution_count": 3,
     "metadata": {},
     "output_type": "execute_result"
    }
   ],
   "source": [
    "defauts = defauts.sort_values(by=[\"Qt\"], ascending=False)\n",
    "pareto = defauts.copy()\n",
    "vals_sum = pareto.sum()\n",
    "pareto[\"fréquence\"] = (pareto[\"Qt\"] / vals_sum[\"Qt\"])*100\n",
    "vals = pareto[\"fréquence\"].to_list()\n",
    "for i in range(1,pareto.shape[0]):\n",
    "    vals[i] += vals[i-1]\n",
    "pareto[\"cumul\"] = vals\n",
    "pareto[\"index\"] = pareto.index\n",
    "pareto"
   ]
  },
  {
   "cell_type": "code",
   "execution_count": 4,
   "metadata": {},
   "outputs": [
    {
     "data": {
      "image/png": "[encoded data removed]",
      "text/plain": [
       "<Figure size 1100x400 with 2 Axes>"
      ]
     },
     "metadata": {
      "needs_background": "light"
     },
     "output_type": "display_data"
    }
   ],
   "source": [
    "fig, ax = plt.subplots()\n",
    "fig.set_dpi(100)\n",
    "\n",
    "fig.set_size_inches(11, 4)\n",
    "ax.bar(pareto.défaut, pareto['Qt'], color='steelblue')\n",
    "ax2 = ax.twinx()\n",
    "ax2.plot(pareto.défaut, pareto['cumul'], marker=\"D\", ms=2, color=\"red\")\n",
    "\n",
    "ax2.yaxis.set_major_formatter(PercentFormatter())\n",
    "\n",
    "ax.tick_params(axis='y')\n",
    "ax2.tick_params(axis='y', colors=\"red\")\n",
    "\n",
    "plt.show()"
   ]
  },
  {
   "cell_type": "markdown",
   "metadata": {},
   "source": [
    "## 2 - Formalisation du problème "
   ]
  },
  {
   "cell_type": "markdown",
   "metadata": {},
   "source": [
    "Afin de bien définir le problème d'une manière claire, nous utiliserons l'outil QQOQCCP."
   ]
  },
  {
   "cell_type": "markdown",
   "metadata": {},
   "source": [
    "### <font color='blue'>Quoi ?</font> \n",
    "•\tIl s’agit d’un retard de livraison<br>\n",
    "•\tLa majorité des plaintes Clients sont dues à la livraison tardive<br>\n",
    "•\tLes conséquences : dégradation de la qualité du produit | mécontentement des clients | détérioration de l'image du produit ou de l'entreprise NOLTACED<br>\n",
    "•\tLes risques : pénalités | maladies des clients à cause des produits non frais | retour client et perte de l’entreprise <br>"
   ]
  },
  {
   "cell_type": "markdown",
   "metadata": {},
   "source": [
    "### <font color='blue'>Qui?</font> \n",
    "\n",
    "•\tl'entreprise NOLTACED"
   ]
  },
  {
   "cell_type": "markdown",
   "metadata": {},
   "source": [
    "### <font color='blue'>Où ? </font> \n",
    "\n",
    "- Magasin de stockage <br>\n",
    "- Chaîne de production (usine)<br>\n",
    "- Route …<br>"
   ]
  },
  {
   "cell_type": "markdown",
   "metadata": {},
   "source": [
    "### <font color='blue'>Quand ?</font> \n",
    "\n",
    "- La période Juillet – Décembre<br>\n",
    "- Plus de six mois <br>\n",
    "- Au début de la saison d’été<br>  \n"
   ]
  },
  {
   "cell_type": "markdown",
   "metadata": {},
   "source": [
    "### <font color='blue'>Comment ?</font> \n",
    "\n",
    "\n",
    "- Ce problème se manifeste par la diminution des commandes clients <br>\n",
    "- Augmentation du nombre de réclamations clients<br>\n",
    "- Les actions des protagonistes : formation d’une équipe des directeurs des magasins, du personnel de production, des livreurs… pour générer un plan d’action <br>\n",
    "- Les procédures : étudier les plaintes clients et les classifier en catégories de <br>"
   ]
  },
  {
   "cell_type": "markdown",
   "metadata": {},
   "source": [
    "### <font color='blue'>Combien ?</font> \n",
    "\n",
    "\n",
    "- 1900 réclamations à propos de la livraison tardive <br> \n",
    "- Retard de livraison = délai qui dépasse les 3 jours <br>  "
   ]
  },
  {
   "cell_type": "markdown",
   "metadata": {},
   "source": [
    "### <font color='blue'>Pourquoi ?</font> \n",
    "\n",
    "\n",
    "- Les causes racines  "
   ]
  },
  {
   "cell_type": "markdown",
   "metadata": {},
   "source": [
    "## 3 - les estimations de tendance et de variabilité"
   ]
  },
  {
   "cell_type": "code",
   "execution_count": 5,
   "metadata": {},
   "outputs": [
    {
     "data": {
      "text/html": [
       "<div>\n",
       "<style scoped>\n",
       "    .dataframe tbody tr th:only-of-type {\n",
       "        vertical-align: middle;\n",
       "    }\n",
       "\n",
       "    .dataframe tbody tr th {\n",
       "        vertical-align: top;\n",
       "    }\n",
       "\n",
       "    .dataframe thead th {\n",
       "        text-align: right;\n",
       "    }\n",
       "</style>\n",
       "<table border=\"1\" class=\"dataframe\">\n",
       "  <thead>\n",
       "    <tr style=\"text-align: right;\">\n",
       "      <th></th>\n",
       "      <th>0</th>\n",
       "      <th>1</th>\n",
       "      <th>2</th>\n",
       "      <th>3</th>\n",
       "      <th>4</th>\n",
       "      <th>5</th>\n",
       "      <th>6</th>\n",
       "      <th>7</th>\n",
       "      <th>8</th>\n",
       "      <th>9</th>\n",
       "      <th>...</th>\n",
       "      <th>15</th>\n",
       "      <th>16</th>\n",
       "      <th>17</th>\n",
       "      <th>18</th>\n",
       "      <th>19</th>\n",
       "      <th>20</th>\n",
       "      <th>21</th>\n",
       "      <th>22</th>\n",
       "      <th>23</th>\n",
       "      <th>24</th>\n",
       "    </tr>\n",
       "  </thead>\n",
       "  <tbody>\n",
       "    <tr>\n",
       "      <th>délai de livraison</th>\n",
       "      <td>4.9</td>\n",
       "      <td>3.6</td>\n",
       "      <td>3.2</td>\n",
       "      <td>3.6</td>\n",
       "      <td>2.2</td>\n",
       "      <td>2.5</td>\n",
       "      <td>2.3</td>\n",
       "      <td>4.1</td>\n",
       "      <td>5.9</td>\n",
       "      <td>6.0</td>\n",
       "      <td>...</td>\n",
       "      <td>1.5</td>\n",
       "      <td>2.1</td>\n",
       "      <td>5.9</td>\n",
       "      <td>4.3</td>\n",
       "      <td>4.2</td>\n",
       "      <td>4.6</td>\n",
       "      <td>2.9</td>\n",
       "      <td>3.1</td>\n",
       "      <td>3.3</td>\n",
       "      <td>3.5</td>\n",
       "    </tr>\n",
       "  </tbody>\n",
       "</table>\n",
       "<p>1 rows × 25 columns</p>\n",
       "</div>"
      ],
      "text/plain": [
       "                      0    1    2    3    4    5    6    7    8    9   ...  \\\n",
       "délai de livraison   4.9  3.6  3.2  3.6  2.2  2.5  2.3  4.1  5.9  6.0  ...   \n",
       "\n",
       "                      15   16   17   18   19   20   21   22   23   24  \n",
       "délai de livraison   1.5  2.1  5.9  4.3  4.2  4.6  2.9  3.1  3.3  3.5  \n",
       "\n",
       "[1 rows x 25 columns]"
      ]
     },
     "execution_count": 5,
     "metadata": {},
     "output_type": "execute_result"
    }
   ],
   "source": [
    "data = pd.read_excel('data/délai de liv.xlsx', index_col=0).reset_index()\n",
    "data.transpose()"
   ]
  },
  {
   "cell_type": "code",
   "execution_count": 6,
   "metadata": {
    "scrolled": true
   },
   "outputs": [
    {
     "name": "stdout",
     "output_type": "stream",
     "text": [
      "la moyenne =  3.5239999999999996\n",
      "l'écart-type =  1.2859108315379673\n",
      "la médiane =  3.5\n",
      "l'étendu =  5.0\n"
     ]
    }
   ],
   "source": [
    "mean = data['délai de livraison '].mean()\n",
    "ect = data['délai de livraison '].std()\n",
    "median_value = np.percentile(data['délai de livraison '], 50) \n",
    "R = max(data['délai de livraison ']) - min(data['délai de livraison '])\n",
    "print(\"la moyenne = \",mean)\n",
    "print(\"l'écart-type = \",ect)\n",
    "print(\"la médiane = \",median_value)\n",
    "print(\"l'étendu = \",R)"
   ]
  },
  {
   "cell_type": "markdown",
   "metadata": {},
   "source": [
    "## <font color='green'>$ \\bar{X}= 3.524 \\ \\ | \\ \\ \\sigma = 1.286 \\ \\ | \\ \\ Me = 3.5 \\ \\ | \\ \\ R = 5.0 $</font> \n"
   ]
  },
  {
   "cell_type": "markdown",
   "metadata": {},
   "source": [
    "## 4 - Traçage des données "
   ]
  },
  {
   "cell_type": "code",
   "execution_count": 7,
   "metadata": {},
   "outputs": [
    {
     "data": {
      "text/plain": [
       "<AxesSubplot:ylabel='Density'>"
      ]
     },
     "execution_count": 7,
     "metadata": {},
     "output_type": "execute_result"
    },
    {
     "data": {
      "image/png": "[encoded data removed]",
      "text/plain": [
       "<Figure size 432x288 with 1 Axes>"
      ]
     },
     "metadata": {
      "needs_background": "light"
     },
     "output_type": "display_data"
    }
   ],
   "source": [
    "sns.histplot(data=data, stat='density')\n",
    "sns.kdeplot(data=data, fill=True)"
   ]
  },
  {
   "cell_type": "markdown",
   "metadata": {},
   "source": [
    "### 4 - 1 Teste de normalité"
   ]
  },
  {
   "cell_type": "code",
   "execution_count": 8,
   "metadata": {
    "scrolled": true
   },
   "outputs": [
    {
     "name": "stdout",
     "output_type": "stream",
     "text": [
      "0.46091851592063904\n"
     ]
    }
   ],
   "source": [
    "sp = stats.shapiro(data)\n",
    "p_value = sp.pvalue\n",
    "print(p_value) "
   ]
  },
  {
   "cell_type": "markdown",
   "metadata": {},
   "source": [
    "## <font color='green'>$ p\\_value = 0.461 $</font> "
   ]
  },
  {
   "cell_type": "markdown",
   "metadata": {},
   "source": [
    "## 5 - Conclusion  "
   ]
  },
  {
   "cell_type": "markdown",
   "metadata": {},
   "source": [
    "On déduit que :\n",
    "-\tLa distribution du délai de livraison suit la loi normale \n",
    "-\tLa médiane vaut 3.5 alors plus de 50% de nos commandes sont en retard \n",
    "-\tStd = 1.259 ; R = 5, grande dispersion  \n"
   ]
  },
  {
   "cell_type": "markdown",
   "metadata": {},
   "source": [
    "## 6 - Fishbone diagram"
   ]
  },
  {
   "cell_type": "markdown",
   "metadata": {},
   "source": [
    "Afin de classer et de visualiser les causes du la livraison tardive, nous utiliserons <b class=\"term\">le diagramme d'Ishikawa </b>(Fishbone diagram) <b class=\"term\">5M</b>."
   ]
  },
  {
   "cell_type": "markdown",
   "metadata": {},
   "source": [
    "<img style=\"border:1px dashed DarkSlateBlue;  border-radius: 15px;\"  src=\".\\data\\Fishbone.png\" width = 800 height =800>"
   ]
  }
 ],
 "metadata": {
  "kernelspec": {
   "display_name": "Python 3",
   "language": "python",
   "name": "python3"
  },
  "language_info": {
   "codemirror_mode": {
    "name": "ipython",
    "version": 3
   },
   "file_extension": ".py",
   "mimetype": "text/x-python",
   "name": "python",
   "nbconvert_exporter": "python",
   "pygments_lexer": "ipython3",
   "version": "3.8.8"
  }
 },
 "nbformat": 4,
 "nbformat_minor": 4
}
